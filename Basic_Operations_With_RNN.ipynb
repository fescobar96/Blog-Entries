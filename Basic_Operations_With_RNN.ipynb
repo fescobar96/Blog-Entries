{
  "nbformat": 4,
  "nbformat_minor": 0,
  "metadata": {
    "colab": {
      "name": "Basic Operations.ipynb",
      "provenance": [],
      "machine_shape": "hm"
    },
    "kernelspec": {
      "name": "python3",
      "display_name": "Python 3"
    },
    "accelerator": "GPU",
    "widgets": {
      "application/vnd.jupyter.widget-state+json": {
        "47e13fb6b1084c24945a8104ffa9fd6c": {
          "model_module": "@jupyter-widgets/controls",
          "model_name": "HBoxModel",
          "state": {
            "_view_name": "HBoxView",
            "_dom_classes": [],
            "_model_name": "HBoxModel",
            "_view_module": "@jupyter-widgets/controls",
            "_model_module_version": "1.5.0",
            "_view_count": null,
            "_view_module_version": "1.5.0",
            "box_style": "",
            "layout": "IPY_MODEL_aef2376b213e45fcafd0d3641a7f3423",
            "_model_module": "@jupyter-widgets/controls",
            "children": [
              "IPY_MODEL_924cba165d97474c9f6e9df9531230ca",
              "IPY_MODEL_0fc3747e797f4fe38671701bdf457cb8"
            ]
          }
        },
        "aef2376b213e45fcafd0d3641a7f3423": {
          "model_module": "@jupyter-widgets/base",
          "model_name": "LayoutModel",
          "state": {
            "_view_name": "LayoutView",
            "grid_template_rows": null,
            "right": null,
            "justify_content": null,
            "_view_module": "@jupyter-widgets/base",
            "overflow": null,
            "_model_module_version": "1.2.0",
            "_view_count": null,
            "flex_flow": null,
            "width": null,
            "min_width": null,
            "border": null,
            "align_items": null,
            "bottom": null,
            "_model_module": "@jupyter-widgets/base",
            "top": null,
            "grid_column": null,
            "overflow_y": null,
            "overflow_x": null,
            "grid_auto_flow": null,
            "grid_area": null,
            "grid_template_columns": null,
            "flex": null,
            "_model_name": "LayoutModel",
            "justify_items": null,
            "grid_row": null,
            "max_height": null,
            "align_content": null,
            "visibility": null,
            "align_self": null,
            "height": null,
            "min_height": null,
            "padding": null,
            "grid_auto_rows": null,
            "grid_gap": null,
            "max_width": null,
            "order": null,
            "_view_module_version": "1.2.0",
            "grid_template_areas": null,
            "object_position": null,
            "object_fit": null,
            "grid_auto_columns": null,
            "margin": null,
            "display": null,
            "left": null
          }
        },
        "924cba165d97474c9f6e9df9531230ca": {
          "model_module": "@jupyter-widgets/controls",
          "model_name": "FloatProgressModel",
          "state": {
            "_view_name": "ProgressView",
            "style": "IPY_MODEL_f1c506e1a1b446aab05223d204f5a13b",
            "_dom_classes": [],
            "description": "100%",
            "_model_name": "FloatProgressModel",
            "bar_style": "success",
            "max": 800000,
            "_view_module": "@jupyter-widgets/controls",
            "_model_module_version": "1.5.0",
            "value": 800000,
            "_view_count": null,
            "_view_module_version": "1.5.0",
            "orientation": "horizontal",
            "min": 0,
            "description_tooltip": null,
            "_model_module": "@jupyter-widgets/controls",
            "layout": "IPY_MODEL_f73539ae8e8e4dc98961437e3c73b449"
          }
        },
        "0fc3747e797f4fe38671701bdf457cb8": {
          "model_module": "@jupyter-widgets/controls",
          "model_name": "HTMLModel",
          "state": {
            "_view_name": "HTMLView",
            "style": "IPY_MODEL_8a5ddce59894497d9168a8e50f195762",
            "_dom_classes": [],
            "description": "",
            "_model_name": "HTMLModel",
            "placeholder": "​",
            "_view_module": "@jupyter-widgets/controls",
            "_model_module_version": "1.5.0",
            "value": " 800000/800000 [00:21&lt;00:00, 36788.59it/s]",
            "_view_count": null,
            "_view_module_version": "1.5.0",
            "description_tooltip": null,
            "_model_module": "@jupyter-widgets/controls",
            "layout": "IPY_MODEL_9debc8aef23243a7893d9dbdf8b169cd"
          }
        },
        "f1c506e1a1b446aab05223d204f5a13b": {
          "model_module": "@jupyter-widgets/controls",
          "model_name": "ProgressStyleModel",
          "state": {
            "_view_name": "StyleView",
            "_model_name": "ProgressStyleModel",
            "description_width": "initial",
            "_view_module": "@jupyter-widgets/base",
            "_model_module_version": "1.5.0",
            "_view_count": null,
            "_view_module_version": "1.2.0",
            "bar_color": null,
            "_model_module": "@jupyter-widgets/controls"
          }
        },
        "f73539ae8e8e4dc98961437e3c73b449": {
          "model_module": "@jupyter-widgets/base",
          "model_name": "LayoutModel",
          "state": {
            "_view_name": "LayoutView",
            "grid_template_rows": null,
            "right": null,
            "justify_content": null,
            "_view_module": "@jupyter-widgets/base",
            "overflow": null,
            "_model_module_version": "1.2.0",
            "_view_count": null,
            "flex_flow": null,
            "width": null,
            "min_width": null,
            "border": null,
            "align_items": null,
            "bottom": null,
            "_model_module": "@jupyter-widgets/base",
            "top": null,
            "grid_column": null,
            "overflow_y": null,
            "overflow_x": null,
            "grid_auto_flow": null,
            "grid_area": null,
            "grid_template_columns": null,
            "flex": null,
            "_model_name": "LayoutModel",
            "justify_items": null,
            "grid_row": null,
            "max_height": null,
            "align_content": null,
            "visibility": null,
            "align_self": null,
            "height": null,
            "min_height": null,
            "padding": null,
            "grid_auto_rows": null,
            "grid_gap": null,
            "max_width": null,
            "order": null,
            "_view_module_version": "1.2.0",
            "grid_template_areas": null,
            "object_position": null,
            "object_fit": null,
            "grid_auto_columns": null,
            "margin": null,
            "display": null,
            "left": null
          }
        },
        "8a5ddce59894497d9168a8e50f195762": {
          "model_module": "@jupyter-widgets/controls",
          "model_name": "DescriptionStyleModel",
          "state": {
            "_view_name": "StyleView",
            "_model_name": "DescriptionStyleModel",
            "description_width": "",
            "_view_module": "@jupyter-widgets/base",
            "_model_module_version": "1.5.0",
            "_view_count": null,
            "_view_module_version": "1.2.0",
            "_model_module": "@jupyter-widgets/controls"
          }
        },
        "9debc8aef23243a7893d9dbdf8b169cd": {
          "model_module": "@jupyter-widgets/base",
          "model_name": "LayoutModel",
          "state": {
            "_view_name": "LayoutView",
            "grid_template_rows": null,
            "right": null,
            "justify_content": null,
            "_view_module": "@jupyter-widgets/base",
            "overflow": null,
            "_model_module_version": "1.2.0",
            "_view_count": null,
            "flex_flow": null,
            "width": null,
            "min_width": null,
            "border": null,
            "align_items": null,
            "bottom": null,
            "_model_module": "@jupyter-widgets/base",
            "top": null,
            "grid_column": null,
            "overflow_y": null,
            "overflow_x": null,
            "grid_auto_flow": null,
            "grid_area": null,
            "grid_template_columns": null,
            "flex": null,
            "_model_name": "LayoutModel",
            "justify_items": null,
            "grid_row": null,
            "max_height": null,
            "align_content": null,
            "visibility": null,
            "align_self": null,
            "height": null,
            "min_height": null,
            "padding": null,
            "grid_auto_rows": null,
            "grid_gap": null,
            "max_width": null,
            "order": null,
            "_view_module_version": "1.2.0",
            "grid_template_areas": null,
            "object_position": null,
            "object_fit": null,
            "grid_auto_columns": null,
            "margin": null,
            "display": null,
            "left": null
          }
        },
        "2057e74a3c5e43a58c88ce555fd0d2cb": {
          "model_module": "@jupyter-widgets/controls",
          "model_name": "HBoxModel",
          "state": {
            "_view_name": "HBoxView",
            "_dom_classes": [],
            "_model_name": "HBoxModel",
            "_view_module": "@jupyter-widgets/controls",
            "_model_module_version": "1.5.0",
            "_view_count": null,
            "_view_module_version": "1.5.0",
            "box_style": "",
            "layout": "IPY_MODEL_cdab7bcf816141d1a1fed10ad7b12053",
            "_model_module": "@jupyter-widgets/controls",
            "children": [
              "IPY_MODEL_0d210d0b99734b92af3f158e4ecdce7a",
              "IPY_MODEL_5df293a2342e4eea9e16d6731c4229c9"
            ]
          }
        },
        "cdab7bcf816141d1a1fed10ad7b12053": {
          "model_module": "@jupyter-widgets/base",
          "model_name": "LayoutModel",
          "state": {
            "_view_name": "LayoutView",
            "grid_template_rows": null,
            "right": null,
            "justify_content": null,
            "_view_module": "@jupyter-widgets/base",
            "overflow": null,
            "_model_module_version": "1.2.0",
            "_view_count": null,
            "flex_flow": null,
            "width": null,
            "min_width": null,
            "border": null,
            "align_items": null,
            "bottom": null,
            "_model_module": "@jupyter-widgets/base",
            "top": null,
            "grid_column": null,
            "overflow_y": null,
            "overflow_x": null,
            "grid_auto_flow": null,
            "grid_area": null,
            "grid_template_columns": null,
            "flex": null,
            "_model_name": "LayoutModel",
            "justify_items": null,
            "grid_row": null,
            "max_height": null,
            "align_content": null,
            "visibility": null,
            "align_self": null,
            "height": null,
            "min_height": null,
            "padding": null,
            "grid_auto_rows": null,
            "grid_gap": null,
            "max_width": null,
            "order": null,
            "_view_module_version": "1.2.0",
            "grid_template_areas": null,
            "object_position": null,
            "object_fit": null,
            "grid_auto_columns": null,
            "margin": null,
            "display": null,
            "left": null
          }
        },
        "0d210d0b99734b92af3f158e4ecdce7a": {
          "model_module": "@jupyter-widgets/controls",
          "model_name": "FloatProgressModel",
          "state": {
            "_view_name": "ProgressView",
            "style": "IPY_MODEL_e9c983b7a8f64caaa6d98fdc6c66a115",
            "_dom_classes": [],
            "description": "100%",
            "_model_name": "FloatProgressModel",
            "bar_style": "success",
            "max": 200000,
            "_view_module": "@jupyter-widgets/controls",
            "_model_module_version": "1.5.0",
            "value": 200000,
            "_view_count": null,
            "_view_module_version": "1.5.0",
            "orientation": "horizontal",
            "min": 0,
            "description_tooltip": null,
            "_model_module": "@jupyter-widgets/controls",
            "layout": "IPY_MODEL_60ffce58db144e2bb8a427d766c09258"
          }
        },
        "5df293a2342e4eea9e16d6731c4229c9": {
          "model_module": "@jupyter-widgets/controls",
          "model_name": "HTMLModel",
          "state": {
            "_view_name": "HTMLView",
            "style": "IPY_MODEL_ba67705c3c944ea389e34cf6edad916f",
            "_dom_classes": [],
            "description": "",
            "_model_name": "HTMLModel",
            "placeholder": "​",
            "_view_module": "@jupyter-widgets/controls",
            "_model_module_version": "1.5.0",
            "value": " 200000/200000 [00:07&lt;00:00, 26695.66it/s]",
            "_view_count": null,
            "_view_module_version": "1.5.0",
            "description_tooltip": null,
            "_model_module": "@jupyter-widgets/controls",
            "layout": "IPY_MODEL_284c983b2e7341f49d0c2267d8f3599c"
          }
        },
        "e9c983b7a8f64caaa6d98fdc6c66a115": {
          "model_module": "@jupyter-widgets/controls",
          "model_name": "ProgressStyleModel",
          "state": {
            "_view_name": "StyleView",
            "_model_name": "ProgressStyleModel",
            "description_width": "initial",
            "_view_module": "@jupyter-widgets/base",
            "_model_module_version": "1.5.0",
            "_view_count": null,
            "_view_module_version": "1.2.0",
            "bar_color": null,
            "_model_module": "@jupyter-widgets/controls"
          }
        },
        "60ffce58db144e2bb8a427d766c09258": {
          "model_module": "@jupyter-widgets/base",
          "model_name": "LayoutModel",
          "state": {
            "_view_name": "LayoutView",
            "grid_template_rows": null,
            "right": null,
            "justify_content": null,
            "_view_module": "@jupyter-widgets/base",
            "overflow": null,
            "_model_module_version": "1.2.0",
            "_view_count": null,
            "flex_flow": null,
            "width": null,
            "min_width": null,
            "border": null,
            "align_items": null,
            "bottom": null,
            "_model_module": "@jupyter-widgets/base",
            "top": null,
            "grid_column": null,
            "overflow_y": null,
            "overflow_x": null,
            "grid_auto_flow": null,
            "grid_area": null,
            "grid_template_columns": null,
            "flex": null,
            "_model_name": "LayoutModel",
            "justify_items": null,
            "grid_row": null,
            "max_height": null,
            "align_content": null,
            "visibility": null,
            "align_self": null,
            "height": null,
            "min_height": null,
            "padding": null,
            "grid_auto_rows": null,
            "grid_gap": null,
            "max_width": null,
            "order": null,
            "_view_module_version": "1.2.0",
            "grid_template_areas": null,
            "object_position": null,
            "object_fit": null,
            "grid_auto_columns": null,
            "margin": null,
            "display": null,
            "left": null
          }
        },
        "ba67705c3c944ea389e34cf6edad916f": {
          "model_module": "@jupyter-widgets/controls",
          "model_name": "DescriptionStyleModel",
          "state": {
            "_view_name": "StyleView",
            "_model_name": "DescriptionStyleModel",
            "description_width": "",
            "_view_module": "@jupyter-widgets/base",
            "_model_module_version": "1.5.0",
            "_view_count": null,
            "_view_module_version": "1.2.0",
            "_model_module": "@jupyter-widgets/controls"
          }
        },
        "284c983b2e7341f49d0c2267d8f3599c": {
          "model_module": "@jupyter-widgets/base",
          "model_name": "LayoutModel",
          "state": {
            "_view_name": "LayoutView",
            "grid_template_rows": null,
            "right": null,
            "justify_content": null,
            "_view_module": "@jupyter-widgets/base",
            "overflow": null,
            "_model_module_version": "1.2.0",
            "_view_count": null,
            "flex_flow": null,
            "width": null,
            "min_width": null,
            "border": null,
            "align_items": null,
            "bottom": null,
            "_model_module": "@jupyter-widgets/base",
            "top": null,
            "grid_column": null,
            "overflow_y": null,
            "overflow_x": null,
            "grid_auto_flow": null,
            "grid_area": null,
            "grid_template_columns": null,
            "flex": null,
            "_model_name": "LayoutModel",
            "justify_items": null,
            "grid_row": null,
            "max_height": null,
            "align_content": null,
            "visibility": null,
            "align_self": null,
            "height": null,
            "min_height": null,
            "padding": null,
            "grid_auto_rows": null,
            "grid_gap": null,
            "max_width": null,
            "order": null,
            "_view_module_version": "1.2.0",
            "grid_template_areas": null,
            "object_position": null,
            "object_fit": null,
            "grid_auto_columns": null,
            "margin": null,
            "display": null,
            "left": null
          }
        }
      }
    }
  },
  "cells": [
    {
      "cell_type": "markdown",
      "metadata": {
        "id": "-bmSVVNKC8PX",
        "colab_type": "text"
      },
      "source": [
        "##Import Libraries"
      ]
    },
    {
      "cell_type": "code",
      "metadata": {
        "id": "AoDVPZ3x9vRI",
        "colab_type": "code",
        "colab": {}
      },
      "source": [
        "import numpy as np\n",
        "import matplotlib.pyplot as plt\n",
        "from tqdm.notebook import tqdm\n",
        "import operator\n",
        "from tensorflow.keras.models import Sequential\n",
        "from tensorflow.keras.layers import Dense\n",
        "from tensorflow.keras.layers import SimpleRNN\n",
        "from tensorflow.keras.layers import RepeatVector\n",
        "from tensorflow.keras.layers import TimeDistributed\n",
        "from tensorflow.keras.utils import plot_model\n",
        "from tensorflow.keras.callbacks import EarlyStopping\n",
        "from tensorflow.keras.callbacks import ModelCheckpoint\n",
        "from tensorflow.keras.models import load_model"
      ],
      "execution_count": 0,
      "outputs": []
    },
    {
      "cell_type": "markdown",
      "metadata": {
        "id": "m9LDcs7XDABd",
        "colab_type": "text"
      },
      "source": [
        "##Features"
      ]
    },
    {
      "cell_type": "code",
      "metadata": {
        "id": "gT7fngP691as",
        "colab_type": "code",
        "colab": {}
      },
      "source": [
        "valid_characters = '0123456789.+*-/'"
      ],
      "execution_count": 0,
      "outputs": []
    },
    {
      "cell_type": "code",
      "metadata": {
        "id": "F5zOs6AJ_Fpe",
        "colab_type": "code",
        "colab": {}
      },
      "source": [
        "val_char_dict = dict((character, index) for index, character in enumerate(valid_characters))"
      ],
      "execution_count": 0,
      "outputs": []
    },
    {
      "cell_type": "code",
      "metadata": {
        "id": "X4pTNXWL_eoX",
        "colab_type": "code",
        "colab": {}
      },
      "source": [
        "val_char_dict_inv = dict((index, character) for index, character in enumerate(valid_characters))"
      ],
      "execution_count": 0,
      "outputs": []
    },
    {
      "cell_type": "markdown",
      "metadata": {
        "id": "RXGUpSSNEAPE",
        "colab_type": "text"
      },
      "source": [
        "##One-Hot Encoder/Decoder"
      ]
    },
    {
      "cell_type": "code",
      "metadata": {
        "id": "rzi7aBXkHvh0",
        "colab_type": "code",
        "colab": {}
      },
      "source": [
        "def one_hot_encode(decoded):\n",
        "  encoded = np.zeros((repeat_steps, len(valid_characters)))\n",
        "  padding = repeat_steps - len(decoded)\n",
        "\n",
        "  for index, character in enumerate(decoded):\n",
        "    encoded[index+padding, val_char_dict[character]] = 1\n",
        "  \n",
        "  for index in range(0, padding):\n",
        "    encoded[index, val_char_dict['0']] = 1\n",
        "  \n",
        "  return encoded"
      ],
      "execution_count": 0,
      "outputs": []
    },
    {
      "cell_type": "code",
      "metadata": {
        "id": "FwB0j_n2KuTL",
        "colab_type": "code",
        "colab": {}
      },
      "source": [
        "def one_hot_decode(encoded):\n",
        "  decoded = [val_char_dict_inv[np.argmax(array)] for index, array in enumerate(encoded)]\n",
        "  decoded = ''.join(decoded)\n",
        "  \n",
        "  return decoded"
      ],
      "execution_count": 0,
      "outputs": []
    },
    {
      "cell_type": "markdown",
      "metadata": {
        "colab_type": "text",
        "id": "dIztF6sZM34C"
      },
      "source": [
        "##Data Synthesis"
      ]
    },
    {
      "cell_type": "code",
      "metadata": {
        "colab_type": "code",
        "id": "0sKJiLmKM34F",
        "colab": {}
      },
      "source": [
        "number_max = 100 #Up to this number\n",
        "repeat_steps = len(str(number_max-1)) * 2 + 1"
      ],
      "execution_count": 0,
      "outputs": []
    },
    {
      "cell_type": "code",
      "metadata": {
        "colab_type": "code",
        "id": "ca7x26cPM34J",
        "colab": {}
      },
      "source": [
        "operators = ['+', '*', '-', '/']\n",
        "operators_dict = { \"+\":operator.add, \n",
        "                  '*':operator.mul, \n",
        "                  \"-\":operator.sub,\n",
        "                  '/':operator.truediv}"
      ],
      "execution_count": 0,
      "outputs": []
    },
    {
      "cell_type": "code",
      "metadata": {
        "colab_type": "code",
        "id": "NCH0I2fMM34N",
        "colab": {}
      },
      "source": [
        "def data_generator():\n",
        "  number_1 = np.random.randint(1,number_max)\n",
        "  operator_index = np.random.randint(0,len(operators))\n",
        "  operator = operators[operator_index]\n",
        "  number_2 = np.random.randint(1,number_max)\n",
        "  operation = str(number_1) + operator + str(number_2)\n",
        "  result = str(round(operators_dict[operator](number_1,number_2),5))\n",
        "  return operation, result"
      ],
      "execution_count": 0,
      "outputs": []
    },
    {
      "cell_type": "code",
      "metadata": {
        "id": "DAjl8lUcNL88",
        "colab_type": "code",
        "colab": {
          "base_uri": "https://localhost:8080/",
          "height": 115,
          "referenced_widgets": [
            "47e13fb6b1084c24945a8104ffa9fd6c",
            "aef2376b213e45fcafd0d3641a7f3423",
            "924cba165d97474c9f6e9df9531230ca",
            "0fc3747e797f4fe38671701bdf457cb8",
            "f1c506e1a1b446aab05223d204f5a13b",
            "f73539ae8e8e4dc98961437e3c73b449",
            "8a5ddce59894497d9168a8e50f195762",
            "9debc8aef23243a7893d9dbdf8b169cd",
            "2057e74a3c5e43a58c88ce555fd0d2cb",
            "cdab7bcf816141d1a1fed10ad7b12053",
            "0d210d0b99734b92af3f158e4ecdce7a",
            "5df293a2342e4eea9e16d6731c4229c9",
            "e9c983b7a8f64caaa6d98fdc6c66a115",
            "60ffce58db144e2bb8a427d766c09258",
            "ba67705c3c944ea389e34cf6edad916f",
            "284c983b2e7341f49d0c2267d8f3599c"
          ]
        },
        "outputId": "aaf3870f-0c94-42a0-db92-6ae8e0fba772"
      },
      "source": [
        "data_points = 1000000\n",
        "test_size = 0.2\n",
        "\n",
        "training_size = int(round(data_points * (1-test_size),0))\n",
        "test_size = data_points - training_size\n",
        "\n",
        "x_train = []\n",
        "x_test = []\n",
        "y_train = []\n",
        "y_test = []\n",
        "\n",
        "for i in tqdm(range(0, training_size)):\n",
        "  x, y = data_generator()\n",
        "  x_e = one_hot_encode(x)\n",
        "  y_e = one_hot_encode(y)\n",
        "  x_train.append(x_e)\n",
        "  y_train.append(y_e)\n",
        "\n",
        "for i in tqdm(range(0, test_size)):\n",
        "  x, y = data_generator()\n",
        "  x_e = one_hot_encode(x)\n",
        "  y_e = one_hot_encode(y)\n",
        "  x_test.append(x_e)\n",
        "  y_test.append(y_e)\n",
        "\n",
        "x_train = np.array(x_train)\n",
        "y_train = np.array(y_train)\n",
        "x_test = np.array(x_test)\n",
        "y_test = np.array(y_test)"
      ],
      "execution_count": 10,
      "outputs": [
        {
          "output_type": "display_data",
          "data": {
            "application/vnd.jupyter.widget-view+json": {
              "model_id": "47e13fb6b1084c24945a8104ffa9fd6c",
              "version_minor": 0,
              "version_major": 2
            },
            "text/plain": [
              "HBox(children=(FloatProgress(value=0.0, max=800000.0), HTML(value='')))"
            ]
          },
          "metadata": {
            "tags": []
          }
        },
        {
          "output_type": "stream",
          "text": [
            "\n"
          ],
          "name": "stdout"
        },
        {
          "output_type": "display_data",
          "data": {
            "application/vnd.jupyter.widget-view+json": {
              "model_id": "2057e74a3c5e43a58c88ce555fd0d2cb",
              "version_minor": 0,
              "version_major": 2
            },
            "text/plain": [
              "HBox(children=(FloatProgress(value=0.0, max=200000.0), HTML(value='')))"
            ]
          },
          "metadata": {
            "tags": []
          }
        },
        {
          "output_type": "stream",
          "text": [
            "\n"
          ],
          "name": "stdout"
        }
      ]
    },
    {
      "cell_type": "markdown",
      "metadata": {
        "colab_type": "text",
        "id": "A455zb0kNCR3"
      },
      "source": [
        "##Model"
      ]
    },
    {
      "cell_type": "code",
      "metadata": {
        "colab_type": "code",
        "id": "TtkiCJd-NCR4",
        "colab": {}
      },
      "source": [
        "model = Sequential()\n",
        "\n",
        "model.add(SimpleRNN(units=1024, input_shape=(None, len(valid_characters))))\n",
        "model.add(RepeatVector(repeat_steps))\n",
        "\n",
        "model.add(SimpleRNN(units=1024, return_sequences=True))\n",
        "model.add(TimeDistributed(Dense(units=len(valid_characters), activation='softmax')))\n"
      ],
      "execution_count": 0,
      "outputs": []
    },
    {
      "cell_type": "code",
      "metadata": {
        "colab_type": "code",
        "id": "k3ZK9XCkNCR7",
        "colab": {}
      },
      "source": [
        "model.compile(optimizer='adam', loss='categorical_crossentropy', metrics='accuracy' )"
      ],
      "execution_count": 0,
      "outputs": []
    },
    {
      "cell_type": "code",
      "metadata": {
        "colab_type": "code",
        "outputId": "a05d47ea-1fb5-4083-8ce2-372455e3c66e",
        "id": "702YTPr4NCR9",
        "colab": {
          "base_uri": "https://localhost:8080/",
          "height": 466
        }
      },
      "source": [
        "plot_model(model)"
      ],
      "execution_count": 13,
      "outputs": [
        {
          "output_type": "execute_result",
          "data": {
            "image/png": "[encoded data removed]",
            "text/plain": [
              "<IPython.core.display.Image object>"
            ]
          },
          "metadata": {
            "tags": []
          },
          "execution_count": 13
        }
      ]
    },
    {
      "cell_type": "code",
      "metadata": {
        "colab_type": "code",
        "outputId": "cebae2dc-4b9b-4a8d-d7d7-522456be8393",
        "id": "ISc-emSdNCSB",
        "colab": {
          "base_uri": "https://localhost:8080/",
          "height": 289
        }
      },
      "source": [
        "model.summary()"
      ],
      "execution_count": 14,
      "outputs": [
        {
          "output_type": "stream",
          "text": [
            "Model: \"sequential\"\n",
            "_________________________________________________________________\n",
            "Layer (type)                 Output Shape              Param #   \n",
            "=================================================================\n",
            "simple_rnn (SimpleRNN)       (None, 1024)              1064960   \n",
            "_________________________________________________________________\n",
            "repeat_vector (RepeatVector) (None, 5, 1024)           0         \n",
            "_________________________________________________________________\n",
            "simple_rnn_1 (SimpleRNN)     (None, 5, 1024)           2098176   \n",
            "_________________________________________________________________\n",
            "time_distributed (TimeDistri (None, 5, 15)             15375     \n",
            "=================================================================\n",
            "Total params: 3,178,511\n",
            "Trainable params: 3,178,511\n",
            "Non-trainable params: 0\n",
            "_________________________________________________________________\n"
          ],
          "name": "stdout"
        }
      ]
    },
    {
      "cell_type": "code",
      "metadata": {
        "id": "G2B2kK72ZsUY",
        "colab_type": "code",
        "colab": {}
      },
      "source": [
        "early_stopping = EarlyStopping(monitor='val_loss', patience=25)\n",
        "save_best = ModelCheckpoint('best_model.hdf5', monitor='val_loss', save_best_only=True, mode='min')"
      ],
      "execution_count": 0,
      "outputs": []
    },
    {
      "cell_type": "code",
      "metadata": {
        "id": "w6arihKuQiB9",
        "colab_type": "code",
        "colab": {
          "base_uri": "https://localhost:8080/",
          "height": 1000
        },
        "outputId": "318a63eb-a83d-4e54-ee62-a96d279d329a"
      },
      "source": [
        "history = model.fit(x_train,\n",
        "                    y_train, \n",
        "                    batch_size=512,\n",
        "                    epochs=250,\n",
        "                    validation_data=(x_test, y_test),\n",
        "                    callbacks=[early_stopping, save_best])"
      ],
      "execution_count": 16,
      "outputs": [
        {
          "output_type": "stream",
          "text": [
            "Epoch 1/250\n",
            "1563/1563 [==============================] - 24s 15ms/step - loss: 0.9445 - accuracy: 0.7160 - val_loss: 0.6698 - val_accuracy: 0.8167\n",
            "Epoch 2/250\n",
            "1563/1563 [==============================] - 24s 15ms/step - loss: 0.5585 - accuracy: 0.8534 - val_loss: 0.4560 - val_accuracy: 0.8828\n",
            "Epoch 3/250\n",
            "1563/1563 [==============================] - 24s 15ms/step - loss: 0.3665 - accuracy: 0.9073 - val_loss: 0.2964 - val_accuracy: 0.9264\n",
            "Epoch 4/250\n",
            "1563/1563 [==============================] - 24s 15ms/step - loss: 0.2538 - accuracy: 0.9361 - val_loss: 0.2363 - val_accuracy: 0.9394\n",
            "Epoch 5/250\n",
            "1563/1563 [==============================] - 24s 15ms/step - loss: 0.2130 - accuracy: 0.9460 - val_loss: 0.1781 - val_accuracy: 0.9573\n",
            "Epoch 6/250\n",
            "1563/1563 [==============================] - 24s 15ms/step - loss: 0.2013 - accuracy: 0.9478 - val_loss: 0.1615 - val_accuracy: 0.9599\n",
            "Epoch 7/250\n",
            "1563/1563 [==============================] - 24s 15ms/step - loss: 0.1966 - accuracy: 0.9482 - val_loss: 0.1574 - val_accuracy: 0.9588\n",
            "Epoch 8/250\n",
            "1563/1563 [==============================] - 24s 15ms/step - loss: 0.1881 - accuracy: 0.9501 - val_loss: 0.1524 - val_accuracy: 0.9622\n",
            "Epoch 9/250\n",
            "1563/1563 [==============================] - 24s 15ms/step - loss: 0.1951 - accuracy: 0.9477 - val_loss: 0.1429 - val_accuracy: 0.9629\n",
            "Epoch 10/250\n",
            "1563/1563 [==============================] - 24s 15ms/step - loss: 0.2242 - accuracy: 0.9401 - val_loss: 0.1372 - val_accuracy: 0.9638\n",
            "Epoch 11/250\n",
            "1563/1563 [==============================] - 24s 15ms/step - loss: 0.1733 - accuracy: 0.9522 - val_loss: 0.2692 - val_accuracy: 0.9280\n",
            "Epoch 12/250\n",
            "1563/1563 [==============================] - 23s 15ms/step - loss: 0.1611 - accuracy: 0.9565 - val_loss: 0.2894 - val_accuracy: 0.9231\n",
            "Epoch 13/250\n",
            "1563/1563 [==============================] - 24s 15ms/step - loss: 0.4967 - accuracy: 0.8722 - val_loss: 0.1564 - val_accuracy: 0.9585\n",
            "Epoch 14/250\n",
            "1563/1563 [==============================] - 24s 15ms/step - loss: 0.1800 - accuracy: 0.9524 - val_loss: 0.1696 - val_accuracy: 0.9492\n",
            "Epoch 15/250\n",
            "1563/1563 [==============================] - 23s 15ms/step - loss: 0.2115 - accuracy: 0.9432 - val_loss: 0.2004 - val_accuracy: 0.9463\n",
            "Epoch 16/250\n",
            "1563/1563 [==============================] - 24s 15ms/step - loss: 0.1536 - accuracy: 0.9582 - val_loss: 0.2063 - val_accuracy: 0.9463\n",
            "Epoch 17/250\n",
            "1563/1563 [==============================] - 23s 15ms/step - loss: 0.5077 - accuracy: 0.8674 - val_loss: 0.2237 - val_accuracy: 0.9432\n",
            "Epoch 18/250\n",
            "1563/1563 [==============================] - 23s 15ms/step - loss: 0.2930 - accuracy: 0.9201 - val_loss: 0.2671 - val_accuracy: 0.9320\n",
            "Epoch 19/250\n",
            "1563/1563 [==============================] - 23s 15ms/step - loss: 0.2823 - accuracy: 0.9231 - val_loss: 0.2717 - val_accuracy: 0.9268\n",
            "Epoch 20/250\n",
            "1563/1563 [==============================] - 23s 15ms/step - loss: 0.2768 - accuracy: 0.9248 - val_loss: 0.2856 - val_accuracy: 0.9215\n",
            "Epoch 21/250\n",
            "1563/1563 [==============================] - 23s 15ms/step - loss: 0.2717 - accuracy: 0.9264 - val_loss: 0.2808 - val_accuracy: 0.9231\n",
            "Epoch 22/250\n",
            "1563/1563 [==============================] - 23s 15ms/step - loss: 0.2603 - accuracy: 0.9298 - val_loss: 0.2743 - val_accuracy: 0.9262\n",
            "Epoch 23/250\n",
            "1563/1563 [==============================] - 23s 15ms/step - loss: 0.2624 - accuracy: 0.9292 - val_loss: 0.2662 - val_accuracy: 0.9306\n",
            "Epoch 24/250\n",
            "1563/1563 [==============================] - 23s 15ms/step - loss: 0.2610 - accuracy: 0.9297 - val_loss: 0.2337 - val_accuracy: 0.9361\n",
            "Epoch 25/250\n",
            "1563/1563 [==============================] - 23s 15ms/step - loss: 0.2604 - accuracy: 0.9299 - val_loss: 0.2661 - val_accuracy: 0.9312\n",
            "Epoch 26/250\n",
            "1563/1563 [==============================] - 23s 15ms/step - loss: 0.2475 - accuracy: 0.9336 - val_loss: 0.2418 - val_accuracy: 0.9350\n",
            "Epoch 27/250\n",
            "1563/1563 [==============================] - 24s 15ms/step - loss: 0.2559 - accuracy: 0.9313 - val_loss: 0.2463 - val_accuracy: 0.9339\n",
            "Epoch 28/250\n",
            "1563/1563 [==============================] - 23s 15ms/step - loss: 0.2596 - accuracy: 0.9304 - val_loss: 0.2314 - val_accuracy: 0.9372\n",
            "Epoch 29/250\n",
            "1563/1563 [==============================] - 23s 15ms/step - loss: 0.2510 - accuracy: 0.9326 - val_loss: 0.2805 - val_accuracy: 0.9275\n",
            "Epoch 30/250\n",
            "1563/1563 [==============================] - 23s 15ms/step - loss: 0.2717 - accuracy: 0.9271 - val_loss: 0.2927 - val_accuracy: 0.9201\n",
            "Epoch 31/250\n",
            "1563/1563 [==============================] - 23s 15ms/step - loss: 0.2522 - accuracy: 0.9331 - val_loss: 0.2110 - val_accuracy: 0.9408\n",
            "Epoch 32/250\n",
            "1563/1563 [==============================] - 23s 15ms/step - loss: 0.4043 - accuracy: 0.8916 - val_loss: 0.3660 - val_accuracy: 0.8917\n",
            "Epoch 33/250\n",
            "1563/1563 [==============================] - 23s 15ms/step - loss: 0.3425 - accuracy: 0.8975 - val_loss: 0.3708 - val_accuracy: 0.8902\n",
            "Epoch 34/250\n",
            "1563/1563 [==============================] - 23s 15ms/step - loss: 0.3843 - accuracy: 0.8860 - val_loss: 0.3679 - val_accuracy: 0.8899\n",
            "Epoch 35/250\n",
            "1563/1563 [==============================] - 23s 15ms/step - loss: 0.3754 - accuracy: 0.8900 - val_loss: 0.3598 - val_accuracy: 0.8976\n"
          ],
          "name": "stdout"
        }
      ]
    },
    {
      "cell_type": "code",
      "metadata": {
        "id": "EzyYg7C1gQvM",
        "colab_type": "code",
        "colab": {
          "base_uri": "https://localhost:8080/",
          "height": 404
        },
        "outputId": "f20910fb-3950-45d1-83ca-7ad1555e9816"
      },
      "source": [
        "plt.figure(figsize=(10,6))\n",
        "plt.plot(np.arange(0,len(history.history['loss'])), history.history['loss'], label='train_loss')\n",
        "plt.plot(np.arange(0,len(history.history['val_loss'])), history.history['val_loss'], label='test_loss')\n",
        "plt.ylabel('Loss')\n",
        "plt.xlabel('Epochs')\n",
        "plt.title('Loss vs. Epochs')\n",
        "plt.legend()\n",
        "plt.show()"
      ],
      "execution_count": 52,
      "outputs": [
        {
          "output_type": "display_data",
          "data": {
            "image/png": "[encoded data removed]",
            "text/plain": [
              "<Figure size 720x432 with 1 Axes>"
            ]
          },
          "metadata": {
            "tags": [],
            "needs_background": "light"
          }
        }
      ]
    },
    {
      "cell_type": "code",
      "metadata": {
        "id": "34ZEJ2pxge3B",
        "colab_type": "code",
        "colab": {
          "base_uri": "https://localhost:8080/",
          "height": 404
        },
        "outputId": "6092856b-5b40-4d38-a413-6c04b081ff67"
      },
      "source": [
        "plt.figure(figsize=(10,6))\n",
        "plt.plot(np.arange(0,len(history.history['accuracy'])), history.history['accuracy'], label='Train Accuracy')\n",
        "plt.plot(np.arange(0,len(history.history['val_accuracy'])), history.history['val_accuracy'], label='Test Accuracy')\n",
        "plt.ylabel('Accuracy')\n",
        "plt.xlabel('Epochs')\n",
        "plt.title('Accuracy vs. Epochs')\n",
        "plt.legend()\n",
        "plt.show()"
      ],
      "execution_count": 53,
      "outputs": [
        {
          "output_type": "display_data",
          "data": {
            "image/png": "[encoded data removed]",
            "text/plain": [
              "<Figure size 720x432 with 1 Axes>"
            ]
          },
          "metadata": {
            "tags": [],
            "needs_background": "light"
          }
        }
      ]
    },
    {
      "cell_type": "code",
      "metadata": {
        "id": "tG62ZKwvabNG",
        "colab_type": "code",
        "colab": {}
      },
      "source": [
        "model = load_model('/content/best_model.hdf5')"
      ],
      "execution_count": 0,
      "outputs": []
    },
    {
      "cell_type": "code",
      "metadata": {
        "id": "NWErVoMMTuSs",
        "colab_type": "code",
        "colab": {}
      },
      "source": [
        "def predict_result(operation):\n",
        "  o = one_hot_encode(operation)\n",
        "  o = np.reshape(o, (1, o.shape[0], o.shape[1] ))\n",
        "  predictions = model.predict(o)\n",
        "  for prediction in predictions:\n",
        "    return one_hot_decode(prediction).lstrip(\"0\")"
      ],
      "execution_count": 0,
      "outputs": []
    },
    {
      "cell_type": "code",
      "metadata": {
        "id": "VkzuA55pT3Vv",
        "colab_type": "code",
        "colab": {
          "base_uri": "https://localhost:8080/",
          "height": 34
        },
        "outputId": "44057d6d-776d-4f83-fe71-d088ec198688"
      },
      "source": [
        "predict_result('14+7')"
      ],
      "execution_count": 37,
      "outputs": [
        {
          "output_type": "execute_result",
          "data": {
            "text/plain": [
              "'21'"
            ]
          },
          "metadata": {
            "tags": []
          },
          "execution_count": 37
        }
      ]
    },
    {
      "cell_type": "code",
      "metadata": {
        "id": "yTtbE9Lmerc5",
        "colab_type": "code",
        "colab": {
          "base_uri": "https://localhost:8080/",
          "height": 34
        },
        "outputId": "624ed088-2eed-46b9-e802-de255a816417"
      },
      "source": [
        "predict_result('99*5')"
      ],
      "execution_count": 39,
      "outputs": [
        {
          "output_type": "execute_result",
          "data": {
            "text/plain": [
              "'495'"
            ]
          },
          "metadata": {
            "tags": []
          },
          "execution_count": 39
        }
      ]
    },
    {
      "cell_type": "code",
      "metadata": {
        "id": "uR5iwijmfATC",
        "colab_type": "code",
        "colab": {
          "base_uri": "https://localhost:8080/",
          "height": 34
        },
        "outputId": "88eb916e-3ac3-4e77-dc5f-db5821a315af"
      },
      "source": [
        "predict_result('2/8')"
      ],
      "execution_count": 41,
      "outputs": [
        {
          "output_type": "execute_result",
          "data": {
            "text/plain": [
              "'.125'"
            ]
          },
          "metadata": {
            "tags": []
          },
          "execution_count": 41
        }
      ]
    },
    {
      "cell_type": "code",
      "metadata": {
        "id": "5FKzKcQFeshW",
        "colab_type": "code",
        "colab": {
          "base_uri": "https://localhost:8080/",
          "height": 34
        },
        "outputId": "f6794e72-a983-44a3-acb5-bdeab881af6c"
      },
      "source": [
        "predict_result('75-64')"
      ],
      "execution_count": 44,
      "outputs": [
        {
          "output_type": "execute_result",
          "data": {
            "text/plain": [
              "'11'"
            ]
          },
          "metadata": {
            "tags": []
          },
          "execution_count": 44
        }
      ]
    }
  ]
}